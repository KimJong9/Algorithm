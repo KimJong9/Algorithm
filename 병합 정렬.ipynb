{
 "cells": [
  {
   "cell_type": "code",
   "execution_count": 1,
   "metadata": {},
   "outputs": [
    {
     "name": "stdout",
     "output_type": "stream",
     "text": [
      "분류 전 숫자들:  [75, 76, 83, 99, 2, 96, 31, 7, 46, 18, 32, 100, 37, 12, 54, 40, 41, 44, 50, 20]\n",
      "분류 전 숫자들:  [2, 7, 12, 18, 20, 31, 32, 37, 40, 41, 44, 46, 50, 54, 75, 76, 83, 96, 99, 100]\n"
     ]
    }
   ],
   "source": [
    "import random\n",
    "\n",
    "def merge(arr, p, q, r):\n",
    "    i = p\n",
    "    j = q + 1\n",
    "    t = 0\n",
    "    tmp = [0] * (r - p + 1)\n",
    "\n",
    "    while i <= q and j <= r:\n",
    "        if arr[i] <= arr[j]:\n",
    "            tmp[t] = arr[i]\n",
    "            i += 1\n",
    "        else:\n",
    "            tmp[t] = arr[j]\n",
    "            j += 1\n",
    "        t += 1\n",
    "\n",
    "    while i <= q:\n",
    "        tmp[t] = arr[i]\n",
    "        i += 1\n",
    "        t += 1\n",
    "\n",
    "    while j <= r:\n",
    "        tmp[t] = arr[j]\n",
    "        j += 1\n",
    "        t += 1\n",
    "\n",
    "    i = p\n",
    "    t = 0\n",
    "    while i <= r:\n",
    "        arr[i] = tmp[t]\n",
    "        i += 1\n",
    "        t += 1\n",
    "\n",
    "def mergeSort(arr, p, r):\n",
    "    if p < r:\n",
    "        q = (p + r) // 2\n",
    "        mergeSort(arr, p, q)\n",
    "        mergeSort(arr, q + 1, r)\n",
    "        merge(arr, p, q, r)\n",
    "\n",
    "# 예시로 랜덤으로 중복되지 않는 정수 20개 생성\n",
    "numbers = random.sample(range(1, 101), 20)\n",
    "\n",
    "print(\"분류 전 숫자들: \",numbers)\n",
    "\n",
    "# 병합 정렬\n",
    "mergeSort(numbers, 0, len(numbers) - 1)\n",
    "\n",
    "print(\"분류 전 숫자들: \",numbers)"
   ]
  },
  {
   "cell_type": "code",
   "execution_count": null,
   "metadata": {},
   "outputs": [],
   "source": []
  }
 ],
 "metadata": {
  "kernelspec": {
   "display_name": "Python 3",
   "language": "python",
   "name": "python3"
  },
  "language_info": {
   "codemirror_mode": {
    "name": "ipython",
    "version": 3
   },
   "file_extension": ".py",
   "mimetype": "text/x-python",
   "name": "python",
   "nbconvert_exporter": "python",
   "pygments_lexer": "ipython3",
   "version": "3.8.5"
  }
 },
 "nbformat": 4,
 "nbformat_minor": 4
}
