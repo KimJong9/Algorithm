{
 "cells": [
  {
   "cell_type": "code",
   "execution_count": 1,
   "metadata": {},
   "outputs": [
    {
     "name": "stdout",
     "output_type": "stream",
     "text": [
      "분류 전 숫자들:  [71, 36, 66, 72, 8, 45, 27, 55, 51, 3, 17, 83, 85, 56, 74, 80, 40, 100, 59, 31]\n",
      "분류 전 숫자들:  [3, 8, 17, 27, 31, 36, 40, 45, 51, 55, 56, 59, 66, 71, 72, 74, 80, 83, 85, 100]\n"
     ]
    }
   ],
   "source": [
    "import random\n",
    "\n",
    "def insertionSort(arr, n):\n",
    "    for i in range(1, n):\n",
    "        loc = i - 1\n",
    "        newItem = arr[i]\n",
    "        while loc >= 0 and newItem < arr[loc]:\n",
    "            arr[loc + 1] = arr[loc]\n",
    "            loc -= 1\n",
    "        arr[loc + 1] = newItem\n",
    "\n",
    "# 예시로 랜덤으로 중복되지 않는 정수 20개 생성\n",
    "numbers = random.sample(range(1, 101), 20)\n",
    "\n",
    "print(\"분류 전 숫자들: \",numbers)\n",
    "\n",
    "# 삽입 정렬\n",
    "insertionSort(numbers, len(numbers))\n",
    "\n",
    "print(\"분류 전 숫자들: \",numbers)"
   ]
  },
  {
   "cell_type": "code",
   "execution_count": null,
   "metadata": {},
   "outputs": [],
   "source": []
  }
 ],
 "metadata": {
  "kernelspec": {
   "display_name": "Python 3",
   "language": "python",
   "name": "python3"
  },
  "language_info": {
   "codemirror_mode": {
    "name": "ipython",
    "version": 3
   },
   "file_extension": ".py",
   "mimetype": "text/x-python",
   "name": "python",
   "nbconvert_exporter": "python",
   "pygments_lexer": "ipython3",
   "version": "3.8.5"
  }
 },
 "nbformat": 4,
 "nbformat_minor": 4
}
