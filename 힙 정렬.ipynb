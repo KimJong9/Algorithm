{
 "cells": [
  {
   "cell_type": "code",
   "execution_count": 2,
   "metadata": {},
   "outputs": [
    {
     "name": "stdout",
     "output_type": "stream",
     "text": [
      "힙 구조로 변환 전 숫자들:  [20, 21, 85, 17, 83, 91, 48, 42, 3, 94, 49, 70, 72, 60, 96, 46, 11, 66, 84, 52]\n",
      "힙 구조로 변환 후 숫자들:  [3, 11, 48, 17, 49, 70, 60, 21, 20, 94, 83, 91, 72, 85, 96, 46, 42, 66, 84, 52]\n",
      "분류 전 숫자들:  [3, 11, 48, 17, 49, 70, 60, 21, 20, 94, 83, 91, 72, 85, 96, 46, 42, 66, 84, 52]\n",
      "분류 후 숫자들:  [96, 94, 91, 85, 84, 83, 72, 70, 66, 60, 49, 48, 46, 42, 21, 20, 17, 11, 3, 52]\n"
     ]
    }
   ],
   "source": [
    "import random\n",
    "\n",
    "def buildHeap(arr, n):\n",
    "    for i in range(n // 2 - 1, -1, -1):\n",
    "        heapify(arr, i, n)\n",
    "\n",
    "def heapify(arr, k, n):\n",
    "    left = 2 * k + 1\n",
    "    right = 2 * k + 2\n",
    "    smaller = k\n",
    "\n",
    "    if left <= n and arr[left] < arr[smaller]:\n",
    "        smaller = left\n",
    "    if right <= n and arr[right] < arr[smaller]:\n",
    "        smaller = right\n",
    "\n",
    "    if smaller != k:\n",
    "        arr[k], arr[smaller] = arr[smaller], arr[k]\n",
    "        heapify(arr, smaller, n)\n",
    "\n",
    "# 예시로 랜덤으로 중복되지 않는 정수 20개 생성\n",
    "numbers = random.sample(range(1, 101), 20)\n",
    "\n",
    "print(\"힙 구조로 변환 전 숫자들: \",numbers)\n",
    "\n",
    "# 힙 구조로 변환\n",
    "buildHeap(numbers, len(numbers)-1)\n",
    "\n",
    "print(\"힙 구조로 변환 후 숫자들: \",numbers)\n",
    "\n",
    "def heapSort(arr, n):\n",
    "    buildHeap(arr, n)\n",
    "    for i in range(n, 1, -1):\n",
    "        arr[0], arr[i-1] = arr[i-1], arr[0]\n",
    "        heapify(arr, 0, i-2)\n",
    "\n",
    "print(\"분류 전 숫자들: \",numbers)\n",
    "\n",
    "# 힙 정렬\n",
    "heapSort(numbers, len(numbers)-1)\n",
    "\n",
    "print(\"분류 후 숫자들: \",numbers)"
   ]
  },
  {
   "cell_type": "code",
   "execution_count": null,
   "metadata": {},
   "outputs": [],
   "source": []
  }
 ],
 "metadata": {
  "kernelspec": {
   "display_name": "Python 3",
   "language": "python",
   "name": "python3"
  },
  "language_info": {
   "codemirror_mode": {
    "name": "ipython",
    "version": 3
   },
   "file_extension": ".py",
   "mimetype": "text/x-python",
   "name": "python",
   "nbconvert_exporter": "python",
   "pygments_lexer": "ipython3",
   "version": "3.8.5"
  }
 },
 "nbformat": 4,
 "nbformat_minor": 4
}
