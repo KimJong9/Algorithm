{
 "cells": [
  {
   "cell_type": "code",
   "execution_count": 1,
   "metadata": {},
   "outputs": [
    {
     "name": "stdout",
     "output_type": "stream",
     "text": [
      "분류 전 숫자들:  [56, 99, 11, 41, 2, 55, 65, 81, 50, 90, 97, 59, 32, 71, 82, 26, 16, 63, 12, 100]\n",
      "분류 후 숫자들:  [2, 11, 12, 16, 26, 32, 41, 50, 55, 56, 59, 63, 65, 71, 81, 82, 90, 97, 99, 100]\n"
     ]
    }
   ],
   "source": [
    "import random\n",
    "numbers = random.sample(range(1,101),20) # 1부터 100까지의 수 중에서 임의의 랜덤 수 20개 생성\n",
    "\n",
    "#큌 정렬 알고리즘\n",
    "def quicksort(arr, p, r): \n",
    "    if p < r:\n",
    "        q = partition(arr, p, r)\n",
    "        quicksort(arr, p, q-1)\n",
    "        quicksort(arr, q+1, r)\n",
    "\n",
    "def partition(arr, p, r):\n",
    "    x = arr[r]\n",
    "    i = p - 1\n",
    "    for j in range(p, r):\n",
    "        if arr[j] <= x:\n",
    "            i += 1\n",
    "            arr[i], arr[j] = arr[j], arr[i]\n",
    "    arr[i+1], arr[r] = arr[r], arr[i+1]\n",
    "    return i + 1\n",
    "\n",
    "print(\"분류 전 숫자들: \",numbers)\n",
    "\n",
    "quicksort(numbers, 0, len(numbers)-1)\n",
    "\n",
    "print(\"분류 후 숫자들: \",numbers)"
   ]
  },
  {
   "cell_type": "code",
   "execution_count": null,
   "metadata": {},
   "outputs": [],
   "source": []
  }
 ],
 "metadata": {
  "kernelspec": {
   "display_name": "Python 3",
   "language": "python",
   "name": "python3"
  },
  "language_info": {
   "codemirror_mode": {
    "name": "ipython",
    "version": 3
   },
   "file_extension": ".py",
   "mimetype": "text/x-python",
   "name": "python",
   "nbconvert_exporter": "python",
   "pygments_lexer": "ipython3",
   "version": "3.8.5"
  }
 },
 "nbformat": 4,
 "nbformat_minor": 4
}
