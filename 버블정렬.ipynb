{
 "cells": [
  {
   "cell_type": "code",
   "execution_count": 1,
   "metadata": {},
   "outputs": [
    {
     "name": "stdout",
     "output_type": "stream",
     "text": [
      "분류 전 숫자들:  [5, 83, 99, 55, 32, 26, 45, 87, 22, 43, 84, 15, 75, 18, 28, 21, 16, 42, 46, 93]\n",
      "분류 전 숫자들:  [5, 15, 16, 18, 21, 22, 26, 28, 32, 42, 43, 45, 46, 55, 75, 83, 84, 87, 93, 99]\n"
     ]
    }
   ],
   "source": [
    "import random\n",
    "\n",
    "def bubbleSort(arr, n):\n",
    "    for last in range(n, 1, -1):\n",
    "        sorted = True\n",
    "        for i in range(last-1):\n",
    "            if arr[i] > arr[i+1]:\n",
    "                arr[i], arr[i+1] = arr[i+1], arr[i]\n",
    "                sorted = False\n",
    "        if sorted:\n",
    "            return\n",
    "\n",
    "# 예시로 랜덤으로 중복되지 않는 정수 20개 생성\n",
    "numbers = random.sample(range(1, 101), 20)\n",
    "\n",
    "print(\"분류 전 숫자들: \",numbers)\n",
    "\n",
    "# 버블 정렬\n",
    "bubbleSort(numbers, len(numbers))\n",
    "\n",
    "print(\"분류 전 숫자들: \",numbers)"
   ]
  },
  {
   "cell_type": "code",
   "execution_count": null,
   "metadata": {},
   "outputs": [],
   "source": []
  }
 ],
 "metadata": {
  "kernelspec": {
   "display_name": "Python 3",
   "language": "python",
   "name": "python3"
  },
  "language_info": {
   "codemirror_mode": {
    "name": "ipython",
    "version": 3
   },
   "file_extension": ".py",
   "mimetype": "text/x-python",
   "name": "python",
   "nbconvert_exporter": "python",
   "pygments_lexer": "ipython3",
   "version": "3.8.5"
  }
 },
 "nbformat": 4,
 "nbformat_minor": 4
}
