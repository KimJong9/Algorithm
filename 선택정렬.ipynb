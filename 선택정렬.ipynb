{
 "cells": [
  {
   "cell_type": "code",
   "execution_count": 1,
   "metadata": {},
   "outputs": [
    {
     "name": "stdout",
     "output_type": "stream",
     "text": [
      "분류 전 숫자들:  [20, 42, 18, 57, 49, 26, 31, 3, 30, 5, 12, 35, 45, 17, 85, 56, 100, 68, 38, 47]\n",
      "분류 전 숫자들:  [3, 5, 12, 17, 18, 20, 26, 30, 31, 35, 38, 42, 45, 47, 49, 56, 57, 68, 85, 100]\n"
     ]
    }
   ],
   "source": [
    "import random\n",
    "\n",
    "def selectionSort(arr, n):\n",
    "    for last in range(n, 1, -1):\n",
    "        k = theLargest(arr, last)\n",
    "        arr[k], arr[last-1] = arr[last-1], arr[k]\n",
    "\n",
    "def theLargest(arr, last):\n",
    "    largest = 0\n",
    "    for i in range(1, last):\n",
    "        if arr[i] > arr[largest]:\n",
    "            largest = i\n",
    "    return largest\n",
    "\n",
    "# 예시로 랜덤으로 중복되지 않는 정수 20개 생성\n",
    "numbers = random.sample(range(1, 101), 20)\n",
    "\n",
    "print(\"분류 전 숫자들: \",numbers)\n",
    "\n",
    "# 선택 정렬\n",
    "selectionSort(numbers, len(numbers))\n",
    "\n",
    "print(\"분류 전 숫자들: \",numbers)"
   ]
  },
  {
   "cell_type": "code",
   "execution_count": null,
   "metadata": {},
   "outputs": [],
   "source": []
  }
 ],
 "metadata": {
  "kernelspec": {
   "display_name": "Python 3",
   "language": "python",
   "name": "python3"
  },
  "language_info": {
   "codemirror_mode": {
    "name": "ipython",
    "version": 3
   },
   "file_extension": ".py",
   "mimetype": "text/x-python",
   "name": "python",
   "nbconvert_exporter": "python",
   "pygments_lexer": "ipython3",
   "version": "3.8.5"
  }
 },
 "nbformat": 4,
 "nbformat_minor": 4
}
